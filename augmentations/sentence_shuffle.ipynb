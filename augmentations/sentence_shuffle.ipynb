{
 "cells": [
  {
   "cell_type": "code",
   "execution_count": 3,
   "id": "abd28242-8afe-414b-b81a-9077feffd48a",
   "metadata": {},
   "outputs": [
    {
     "name": "stderr",
     "output_type": "stream",
     "text": [
      "/opt/conda/lib/python3.8/site-packages/tqdm/auto.py:22: TqdmWarning: IProgress not found. Please update jupyter and ipywidgets. See https://ipywidgets.readthedocs.io/en/stable/user_install.html\n",
      "  from .autonotebook import tqdm as notebook_tqdm\n"
     ]
    }
   ],
   "source": [
    "import json\n",
    "import random\n",
    "import numpy as np\n",
    "import pandas as pd\n",
    "from datasets import load_from_disk, load_dataset\n",
    "from datasets import Dataset\n",
    "from tqdm import tqdm, trange\n",
    "import kss"
   ]
  },
  {
   "cell_type": "code",
   "execution_count": 25,
   "id": "06b3d445-5018-4527-a665-28a219e8fbf9",
   "metadata": {},
   "outputs": [],
   "source": [
    "datasets = load_from_disk(\"../../data/train_dataset\")"
   ]
  },
  {
   "cell_type": "code",
   "execution_count": 26,
   "id": "52763fca-23ad-4afd-a951-3129a6e21e0a",
   "metadata": {},
   "outputs": [
    {
     "data": {
      "text/plain": [
       "DatasetDict({\n",
       "    train: Dataset({\n",
       "        features: ['title', 'context', 'question', 'id', 'answers', 'document_id', '__index_level_0__'],\n",
       "        num_rows: 3952\n",
       "    })\n",
       "    validation: Dataset({\n",
       "        features: ['title', 'context', 'question', 'id', 'answers', 'document_id', '__index_level_0__'],\n",
       "        num_rows: 240\n",
       "    })\n",
       "})"
      ]
     },
     "execution_count": 26,
     "metadata": {},
     "output_type": "execute_result"
    }
   ],
   "source": [
    "datasets"
   ]
  },
  {
   "cell_type": "code",
   "execution_count": 27,
   "id": "fe480a57-11ee-40b9-ac6c-234fde8faaec",
   "metadata": {},
   "outputs": [],
   "source": [
    "train_datasets = datasets['train']"
   ]
  },
  {
   "cell_type": "code",
   "execution_count": 28,
   "id": "996a7ff6-bd53-408a-91d4-bf0cc4f7ac84",
   "metadata": {
    "tags": []
   },
   "outputs": [
    {
     "data": {
      "text/plain": [
       "{'title': '미국 상원',\n",
       " 'context': '미국 상의원 또는 미국 상원(United States Senate)은 양원제인 미국 의회의 상원이다.\\\\n\\\\n미국 부통령이 상원의장이 된다. 각 주당 2명의 상원의원이 선출되어 100명의 상원의원으로 구성되어 있다. 임기는 6년이며, 2년마다 50개주 중 1/3씩 상원의원을 새로 선출하여 연방에 보낸다.\\\\n\\\\n미국 상원은 미국 하원과는 다르게 미국 대통령을 수반으로 하는 미국 연방 행정부에 각종 동의를 하는 기관이다. 하원이 세금과 경제에 대한 권한, 대통령을 포함한 대다수의 공무원을 파면할 권한을 갖고 있는 국민을 대표하는 기관인 반면 상원은 미국의 주를 대표한다. 즉 캘리포니아주, 일리노이주 같이 주 정부와 주 의회를 대표하는 기관이다. 그로 인하여 군대의 파병, 관료의 임명에 대한 동의, 외국 조약에 대한 승인 등 신속을 요하는 권한은 모두 상원에게만 있다. 그리고 하원에 대한 견제 역할(하원의 법안을 거부할 권한 등)을 담당한다. 2년의 임기로 인하여 급진적일 수밖에 없는 하원은 지나치게 급진적인 법안을 만들기 쉽다. 대표적인 예로 건강보험 개혁 당시 하원이 미국 연방 행정부에게 퍼블릭 옵션(공공건강보험기관)의 조항이 있는 반면 상원의 경우 하원안이 지나치게 세금이 많이 든다는 이유로 퍼블릭 옵션 조항을 제외하고 비영리건강보험기관이나 보험회사가 담당하도록 한 것이다. 이 경우처럼 상원은 하원이나 내각책임제가 빠지기 쉬운 국가들의 국회처럼 걸핏하면 발생하는 의회의 비정상적인 사태를 방지하는 기관이다. 상원은 급박한 처리사항의 경우가 아니면 법안을 먼저 내는 경우가 드물고 하원이 만든 법안을 수정하여 다시 하원에 되돌려보낸다. 이러한 방식으로 단원제가 빠지기 쉬운 함정을 미리 방지하는 것이다.날짜=2017-02-05',\n",
       " 'question': '대통령을 포함한 미국의 행정부 견제권을 갖는 국가 기관은?',\n",
       " 'id': 'mrc-1-000067',\n",
       " 'answers': {'answer_start': [235], 'text': ['하원']},\n",
       " 'document_id': 18293,\n",
       " '__index_level_0__': 42}"
      ]
     },
     "execution_count": 28,
     "metadata": {},
     "output_type": "execute_result"
    }
   ],
   "source": [
    "train_datasets[0]"
   ]
  },
  {
   "cell_type": "code",
   "execution_count": 29,
   "id": "43fb6b0f-c566-4560-9a8e-b325110971f9",
   "metadata": {},
   "outputs": [],
   "source": [
    "import os\n",
    "os.environ[\"TOKENIZERS_PARALLELISM\"] = \"true\""
   ]
  },
  {
   "cell_type": "code",
   "execution_count": 9,
   "id": "a55173b1-bacc-4f1b-a93a-b8237fe167bf",
   "metadata": {},
   "outputs": [],
   "source": [
    "def arrow_to_list(data, shuffle=False):\n",
    "    new = []\n",
    "    errors = []\n",
    "\n",
    "    for i in tqdm(range(len(data))):\n",
    "        split_sentences = kss.split_sentences(data[i]['context'])\n",
    "        split_sentences_table = {s: i for i, s in enumerate(split_sentences)}\n",
    "        answer_start = data[i]['answers']['answer_start'][0]\n",
    "\n",
    "        # 정답이 해당 문장에 들어있는가\n",
    "        count = 0\n",
    "        for j in range(len(split_sentences)):\n",
    "            prev_count = count\n",
    "            count += len(split_sentences[j])\n",
    "            if answer_start <= count:\n",
    "                answer_sentence_index = j  # j번째문장에 정답이 있다.\n",
    "                break\n",
    "\n",
    "        # TODO: answer index에 answer이 없는 경우 예외처리\n",
    "        if data[i]['answers']['text'][0] not in split_sentences[answer_sentence_index]:\n",
    "            errors.append(i)\n",
    "        \n",
    "\n",
    "        if shuffle:\n",
    "            answer_start_in_sentence = split_sentences[answer_sentence_index].find(data[i]['answers']['text'][0])\n",
    "            \n",
    "            random.shuffle(split_sentences)\n",
    "\n",
    "            shuffle_index = [split_sentences_table[sentence] for sentence in split_sentences]\n",
    "            shuffle_answer_sentence_index = shuffle_index.index(answer_sentence_index)\n",
    "\n",
    "            count = 0\n",
    "            for j in range(shuffle_answer_sentence_index):\n",
    "                count += len(split_sentences[j]) + 1  # 문장간 띄어쓰기\n",
    "            shuffle_answer_start = count + answer_start_in_sentence\n",
    "            shuffle_sentences = ' '.join(split_sentences)\n",
    "\n",
    "            if shuffle_sentences[shuffle_answer_start] != data[i]['answers']['text'][0][0]:\n",
    "                errors.append(i)\n",
    "        else:\n",
    "            shuffle_sentences = data[i]['context']\n",
    "            shuffle_answer_start = data[i]['answers']['answer_start'][0]\n",
    "\n",
    "        new.append({\n",
    "            'id': data[i]['id'],\n",
    "            'question': data[i]['question'],\n",
    "            'context': shuffle_sentences,\n",
    "            'answers': {\n",
    "                'text': data[i]['answers']['text'],\n",
    "                'answer_start': [shuffle_answer_start]\n",
    "            }\n",
    "        })\n",
    "    return new, errors"
   ]
  },
  {
   "cell_type": "code",
   "execution_count": 31,
   "id": "ce62b525-f21a-425b-82c5-c352751e653b",
   "metadata": {},
   "outputs": [
    {
     "name": "stderr",
     "output_type": "stream",
     "text": [
      "100%|██████████| 3952/3952 [3:29:25<00:00,  3.18s/it]  \n"
     ]
    }
   ],
   "source": [
    "new_train_datasets, error_datasets = arrow_to_list(train_datasets, shuffle=True)"
   ]
  },
  {
   "cell_type": "code",
   "execution_count": 33,
   "id": "e81300ad-9737-47e4-aa5a-19edf6238cdf",
   "metadata": {},
   "outputs": [
    {
     "data": {
      "text/plain": [
       "62"
      ]
     },
     "execution_count": 33,
     "metadata": {},
     "output_type": "execute_result"
    }
   ],
   "source": [
    "len(error_datasets)"
   ]
  },
  {
   "cell_type": "code",
   "execution_count": 36,
   "id": "6fa8054a-171f-4910-af89-6e5c6e17264f",
   "metadata": {},
   "outputs": [
    {
     "data": {
      "text/html": [
       "<div>\n",
       "<style scoped>\n",
       "    .dataframe tbody tr th:only-of-type {\n",
       "        vertical-align: middle;\n",
       "    }\n",
       "\n",
       "    .dataframe tbody tr th {\n",
       "        vertical-align: top;\n",
       "    }\n",
       "\n",
       "    .dataframe thead th {\n",
       "        text-align: right;\n",
       "    }\n",
       "</style>\n",
       "<table border=\"1\" class=\"dataframe\">\n",
       "  <thead>\n",
       "    <tr style=\"text-align: right;\">\n",
       "      <th></th>\n",
       "      <th>id</th>\n",
       "      <th>question</th>\n",
       "      <th>context</th>\n",
       "      <th>answers</th>\n",
       "    </tr>\n",
       "  </thead>\n",
       "  <tbody>\n",
       "    <tr>\n",
       "      <th>0</th>\n",
       "      <td>mrc-1-000067</td>\n",
       "      <td>대통령을 포함한 미국의 행정부 견제권을 갖는 국가 기관은?</td>\n",
       "      <td>그로 인하여 군대의 파병, 관료의 임명에 대한 동의, 외국 조약에 대한 승인 등 신...</td>\n",
       "      <td>{'text': ['하원'], 'answer_start': [486]}</td>\n",
       "    </tr>\n",
       "    <tr>\n",
       "      <th>1</th>\n",
       "      <td>mrc-0-004397</td>\n",
       "      <td>현대적 인사조직관리의 시발점이 된 책은?</td>\n",
       "      <td>특히 1954년 피터 드러커의 저서 《경영의 실제》는 현대적 경영의 기준을 제시하여...</td>\n",
       "      <td>{'text': ['《경영의 실제》'], 'answer_start': [20]}</td>\n",
       "    </tr>\n",
       "    <tr>\n",
       "      <th>2</th>\n",
       "      <td>mrc-1-000362</td>\n",
       "      <td>강희제가 1717년에 쓴 글은 누구를 위해 쓰여졌는가?</td>\n",
       "      <td>강희제는 황제로서 자식과 같은 백성들에게 이런 당부의 말을 남겨 황제로서의 도리를 ...</td>\n",
       "      <td>{'text': ['백성'], 'answer_start': [538]}</td>\n",
       "    </tr>\n",
       "    <tr>\n",
       "      <th>3</th>\n",
       "      <td>mrc-0-001510</td>\n",
       "      <td>11~12세기에 제작된 본존불은 보통 어떤 나라의 특징이 전파되었나요?</td>\n",
       "      <td>불감은 그 안에 모신 불상의 양식뿐만 아니라, 당시의 건축 양식을 함께 살필 수 있...</td>\n",
       "      <td>{'text': ['중국'], 'answer_start': [504]}</td>\n",
       "    </tr>\n",
       "    <tr>\n",
       "      <th>4</th>\n",
       "      <td>mrc-0-000823</td>\n",
       "      <td>명문이 적힌 유물을 구성하는 그릇의 총 개수는?</td>\n",
       "      <td>동아대학교박물관에서 소장하고 있는 계사명 사리구는 총 4개의 용기로 구성된 조선후기...</td>\n",
       "      <td>{'text': ['4개'], 'answer_start': [30]}</td>\n",
       "    </tr>\n",
       "    <tr>\n",
       "      <th>...</th>\n",
       "      <td>...</td>\n",
       "      <td>...</td>\n",
       "      <td>...</td>\n",
       "      <td>...</td>\n",
       "    </tr>\n",
       "    <tr>\n",
       "      <th>3947</th>\n",
       "      <td>mrc-0-005285</td>\n",
       "      <td>대부분의 이오의 산이 형성되는데 영향을 끼친 것은?</td>\n",
       "      <td>다른 산들은 기울어진 지각 덩어리처럼 보이는데, 이전에 평평했던 땅이 완만하게 기울...</td>\n",
       "      <td>{'text': ['지질 구조'], 'answer_start': [792]}</td>\n",
       "    </tr>\n",
       "    <tr>\n",
       "      <th>3948</th>\n",
       "      <td>mrc-1-000699</td>\n",
       "      <td>애니는 어디서 태어났는가?</td>\n",
       "      <td>애니의 고군분투 뉴욕 입성기!!\\n\\n인류학자가 꿈인 21살 소녀 '애니(스칼렛 요...</td>\n",
       "      <td>{'text': ['뉴저지'], 'answer_start': [494]}</td>\n",
       "    </tr>\n",
       "    <tr>\n",
       "      <th>3949</th>\n",
       "      <td>mrc-0-003429</td>\n",
       "      <td>1854년에 니콜라이의 뒤를 이어 상임 지휘자로서 활동한 인물은?</td>\n",
       "      <td>\\n \\n \\n\\n1941년에는 악단의 명물이 된 빈 신년음악회가 개최되기 시작했다...</td>\n",
       "      <td>{'text': ['칼 에케르트'], 'answer_start': [830]}</td>\n",
       "    </tr>\n",
       "    <tr>\n",
       "      <th>3950</th>\n",
       "      <td>mrc-0-003956</td>\n",
       "      <td>드래곤의 암수 구분이 있는 신화는?</td>\n",
       "      <td>\\n\\n암컷 드래곤은 인간을 미워하여 기후를 자기 맘대로 조종하여 작물을 말라 죽게...</td>\n",
       "      <td>{'text': ['슬라브 신화'], 'answer_start': [848]}</td>\n",
       "    </tr>\n",
       "    <tr>\n",
       "      <th>3951</th>\n",
       "      <td>mrc-0-003589</td>\n",
       "      <td>올레 폰 보이스트 이후에 시장으로 임명된 사람은 누구인가?</td>\n",
       "      <td>이는 독일연방과 주에서 시도된 최초의 기민련과 녹색당간의 연정이었다. 2010년 1...</td>\n",
       "      <td>{'text': ['크리스토포 알하우스'], 'answer_start': [221]}</td>\n",
       "    </tr>\n",
       "  </tbody>\n",
       "</table>\n",
       "<p>3952 rows × 4 columns</p>\n",
       "</div>"
      ],
      "text/plain": [
       "                id                                 question  \\\n",
       "0     mrc-1-000067         대통령을 포함한 미국의 행정부 견제권을 갖는 국가 기관은?   \n",
       "1     mrc-0-004397                   현대적 인사조직관리의 시발점이 된 책은?   \n",
       "2     mrc-1-000362           강희제가 1717년에 쓴 글은 누구를 위해 쓰여졌는가?   \n",
       "3     mrc-0-001510  11~12세기에 제작된 본존불은 보통 어떤 나라의 특징이 전파되었나요?   \n",
       "4     mrc-0-000823               명문이 적힌 유물을 구성하는 그릇의 총 개수는?   \n",
       "...            ...                                      ...   \n",
       "3947  mrc-0-005285             대부분의 이오의 산이 형성되는데 영향을 끼친 것은?   \n",
       "3948  mrc-1-000699                           애니는 어디서 태어났는가?   \n",
       "3949  mrc-0-003429     1854년에 니콜라이의 뒤를 이어 상임 지휘자로서 활동한 인물은?   \n",
       "3950  mrc-0-003956                      드래곤의 암수 구분이 있는 신화는?   \n",
       "3951  mrc-0-003589         올레 폰 보이스트 이후에 시장으로 임명된 사람은 누구인가?   \n",
       "\n",
       "                                                context  \\\n",
       "0     그로 인하여 군대의 파병, 관료의 임명에 대한 동의, 외국 조약에 대한 승인 등 신...   \n",
       "1     특히 1954년 피터 드러커의 저서 《경영의 실제》는 현대적 경영의 기준을 제시하여...   \n",
       "2     강희제는 황제로서 자식과 같은 백성들에게 이런 당부의 말을 남겨 황제로서의 도리를 ...   \n",
       "3     불감은 그 안에 모신 불상의 양식뿐만 아니라, 당시의 건축 양식을 함께 살필 수 있...   \n",
       "4     동아대학교박물관에서 소장하고 있는 계사명 사리구는 총 4개의 용기로 구성된 조선후기...   \n",
       "...                                                 ...   \n",
       "3947  다른 산들은 기울어진 지각 덩어리처럼 보이는데, 이전에 평평했던 땅이 완만하게 기울...   \n",
       "3948  애니의 고군분투 뉴욕 입성기!!\\n\\n인류학자가 꿈인 21살 소녀 '애니(스칼렛 요...   \n",
       "3949  \\n \\n \\n\\n1941년에는 악단의 명물이 된 빈 신년음악회가 개최되기 시작했다...   \n",
       "3950  \\n\\n암컷 드래곤은 인간을 미워하여 기후를 자기 맘대로 조종하여 작물을 말라 죽게...   \n",
       "3951  이는 독일연방과 주에서 시도된 최초의 기민련과 녹색당간의 연정이었다. 2010년 1...   \n",
       "\n",
       "                                              answers  \n",
       "0             {'text': ['하원'], 'answer_start': [486]}  \n",
       "1        {'text': ['《경영의 실제》'], 'answer_start': [20]}  \n",
       "2             {'text': ['백성'], 'answer_start': [538]}  \n",
       "3             {'text': ['중국'], 'answer_start': [504]}  \n",
       "4              {'text': ['4개'], 'answer_start': [30]}  \n",
       "...                                               ...  \n",
       "3947       {'text': ['지질 구조'], 'answer_start': [792]}  \n",
       "3948         {'text': ['뉴저지'], 'answer_start': [494]}  \n",
       "3949      {'text': ['칼 에케르트'], 'answer_start': [830]}  \n",
       "3950      {'text': ['슬라브 신화'], 'answer_start': [848]}  \n",
       "3951  {'text': ['크리스토포 알하우스'], 'answer_start': [221]}  \n",
       "\n",
       "[3952 rows x 4 columns]"
      ]
     },
     "execution_count": 36,
     "metadata": {},
     "output_type": "execute_result"
    }
   ],
   "source": [
    "a = pd.DataFrame(data=new_train_datasets)\n",
    "a"
   ]
  },
  {
   "cell_type": "code",
   "execution_count": 55,
   "id": "e07c1b8b-a7e1-48af-b2ac-d39de72b7ce3",
   "metadata": {},
   "outputs": [],
   "source": [
    "Dataset.from_pandas(a).save_to_disk(f\"../../sentence_shuffle/train_dataset/train\")"
   ]
  },
  {
   "cell_type": "code",
   "execution_count": 56,
   "id": "d77606a1-4058-4bf0-bd20-50bc4aecc9e2",
   "metadata": {},
   "outputs": [],
   "source": [
    "with open('../../data/wikipedia_documents.json') as f:\n",
    "    wiki_data = json.load(f)"
   ]
  },
  {
   "cell_type": "code",
   "execution_count": 51,
   "id": "59042cbd-620c-471f-b2f2-89317961cd51",
   "metadata": {},
   "outputs": [
    {
     "name": "stderr",
     "output_type": "stream",
     "text": [
      "IOPub data rate exceeded.\n",
      "The Jupyter server will temporarily stop sending output\n",
      "to the client in order to avoid crashing it.\n",
      "To change this limit, set the config variable\n",
      "`--ServerApp.iopub_data_rate_limit`.\n",
      "\n",
      "Current values:\n",
      "ServerApp.iopub_data_rate_limit=1000000.0 (bytes/sec)\n",
      "ServerApp.rate_limit_window=3.0 (secs)\n",
      "\n"
     ]
    }
   ],
   "source": [
    "print(wiki_data)\n",
    "print(type(wiki_data))"
   ]
  },
  {
   "cell_type": "code",
   "execution_count": 57,
   "id": "e69515ef-9560-448d-b64f-da91e22f10b7",
   "metadata": {},
   "outputs": [],
   "source": [
    "with open('../../sentence_shuffle/wikipedia_documents.json', 'w') as f:\n",
    "    json.dump(wiki_data, f)"
   ]
  },
  {
   "cell_type": "code",
   "execution_count": 6,
   "id": "37b48e5a-e01c-48fd-a357-2cd24a3217c0",
   "metadata": {},
   "outputs": [],
   "source": [
    "valid_datasets = load_from_disk(\"../../data/train_dataset/validation\")"
   ]
  },
  {
   "cell_type": "code",
   "execution_count": 7,
   "id": "b6116f1f-ee98-4295-81b9-593c4ed866f8",
   "metadata": {},
   "outputs": [
    {
     "data": {
      "text/plain": [
       "Dataset({\n",
       "    features: ['title', 'context', 'question', 'id', 'answers', 'document_id', '__index_level_0__'],\n",
       "    num_rows: 240\n",
       "})"
      ]
     },
     "execution_count": 7,
     "metadata": {},
     "output_type": "execute_result"
    }
   ],
   "source": [
    "valid_datasets"
   ]
  },
  {
   "cell_type": "code",
   "execution_count": 10,
   "id": "2e0941a1-818a-4ca3-8ddd-3863e29f228f",
   "metadata": {},
   "outputs": [
    {
     "name": "stderr",
     "output_type": "stream",
     "text": [
      "  0%|          | 0/240 [00:00<?, ?it/s][Korean Sentence Splitter]: Initializing Pynori...\n",
      "100%|██████████| 240/240 [12:11<00:00,  3.05s/it]\n"
     ]
    }
   ],
   "source": [
    "new_valid_datasets, error_valid_datasets = arrow_to_list(valid_datasets, shuffle=False)"
   ]
  },
  {
   "cell_type": "code",
   "execution_count": 12,
   "id": "d20236df-202f-4723-bb32-4bc642067017",
   "metadata": {},
   "outputs": [],
   "source": [
    "v_df = pd.DataFrame(data=new_valid_datasets)"
   ]
  },
  {
   "cell_type": "code",
   "execution_count": 13,
   "id": "7ea3ac71-5216-4146-9749-1d8757ab3058",
   "metadata": {},
   "outputs": [
    {
     "data": {
      "text/html": [
       "<div>\n",
       "<style scoped>\n",
       "    .dataframe tbody tr th:only-of-type {\n",
       "        vertical-align: middle;\n",
       "    }\n",
       "\n",
       "    .dataframe tbody tr th {\n",
       "        vertical-align: top;\n",
       "    }\n",
       "\n",
       "    .dataframe thead th {\n",
       "        text-align: right;\n",
       "    }\n",
       "</style>\n",
       "<table border=\"1\" class=\"dataframe\">\n",
       "  <thead>\n",
       "    <tr style=\"text-align: right;\">\n",
       "      <th></th>\n",
       "      <th>id</th>\n",
       "      <th>question</th>\n",
       "      <th>context</th>\n",
       "      <th>answers</th>\n",
       "    </tr>\n",
       "  </thead>\n",
       "  <tbody>\n",
       "    <tr>\n",
       "      <th>0</th>\n",
       "      <td>mrc-0-003264</td>\n",
       "      <td>처음으로 부실 경영인에 대한 보상 선고를 받은 회사는?</td>\n",
       "      <td>순천여자고등학교 졸업, 1973년 이화여자대학교를 졸업하고 1975년 제17회 사법...</td>\n",
       "      <td>{'text': ['한보철강'], 'answer_start': [284]}</td>\n",
       "    </tr>\n",
       "    <tr>\n",
       "      <th>1</th>\n",
       "      <td>mrc-0-004762</td>\n",
       "      <td>스카버러 남쪽과 코보콘그 마을의 철도 노선이 처음 연장된 연도는?</td>\n",
       "      <td>요크 카운티 동쪽에 처음으로 여객 열차 운행이 시작한 시점은 1868년 토론토 &amp; ...</td>\n",
       "      <td>{'text': ['1871년'], 'answer_start': [146]}</td>\n",
       "    </tr>\n",
       "    <tr>\n",
       "      <th>2</th>\n",
       "      <td>mrc-1-001810</td>\n",
       "      <td>촌락에서 운영 위원 후보자 이름을 쓰기위해 사용된 것은?</td>\n",
       "      <td>촐라 정부\\n 촐라의 정부 체제는 전제군주제였으며,2001 촐라의 군주는 절대적인 ...</td>\n",
       "      <td>{'text': ['나뭇잎'], 'answer_start': [517]}</td>\n",
       "    </tr>\n",
       "    <tr>\n",
       "      <th>3</th>\n",
       "      <td>mrc-1-000219</td>\n",
       "      <td>로타이르가 백조를 구하기 위해 사용한 것은?</td>\n",
       "      <td>프랑스의 십자군 무훈시는 1099년 예루살렘 왕국의 통치자가 된 고드프루아 드 부용...</td>\n",
       "      <td>{'text': ['금대야'], 'answer_start': [1109]}</td>\n",
       "    </tr>\n",
       "    <tr>\n",
       "      <th>4</th>\n",
       "      <td>mrc-1-000285</td>\n",
       "      <td>의견을 자유롭게 나누는 것은 조직 내 어떤 관계에서 가능한가?</td>\n",
       "      <td>탈관료제화는 현대사회에서 관료제 성격이 약화되는 현상이다. 현대사회에서 관료제는 약...</td>\n",
       "      <td>{'text': ['수평적 관계'], 'answer_start': [386]}</td>\n",
       "    </tr>\n",
       "    <tr>\n",
       "      <th>...</th>\n",
       "      <td>...</td>\n",
       "      <td>...</td>\n",
       "      <td>...</td>\n",
       "      <td>...</td>\n",
       "    </tr>\n",
       "    <tr>\n",
       "      <th>235</th>\n",
       "      <td>mrc-0-000484</td>\n",
       "      <td>전단이 연나라와의 전쟁에서 승리했을 당시 제나라의 왕은 누구인가?</td>\n",
       "      <td>연나라 군대의 사령관이 악의에서 기겁으로 교체되자, 전단은 스스로 신령의 계시를 받...</td>\n",
       "      <td>{'text': ['제 양왕'], 'answer_start': [1084]}</td>\n",
       "    </tr>\n",
       "    <tr>\n",
       "      <th>236</th>\n",
       "      <td>mrc-0-002095</td>\n",
       "      <td>공놀이 경기장 중 일부는 어디에 위치하고 있나?</td>\n",
       "      <td>현재 우리가 볼 수 있는 티칼의 모습은 펜실베이니아 대학교와 과테말라 정부의 협조 ...</td>\n",
       "      <td>{'text': [''일곱 개의 신전 광장''], 'answer_start': [3...</td>\n",
       "    </tr>\n",
       "    <tr>\n",
       "      <th>237</th>\n",
       "      <td>mrc-0-003083</td>\n",
       "      <td>창씨개명령의 시행일을 미루는 것을 수락한 인물은?</td>\n",
       "      <td>1940년 5월 1일 오전 창씨개명에 비협조적이라는 이유로 조선총독부 경무국에서 소...</td>\n",
       "      <td>{'text': ['미나미 지로'], 'answer_start': [247]}</td>\n",
       "    </tr>\n",
       "    <tr>\n",
       "      <th>238</th>\n",
       "      <td>mrc-0-002978</td>\n",
       "      <td>망코 잉카가 쿠스코를 되찾기 위해 마련한 군사는 총 몇 명인가?</td>\n",
       "      <td>빌카밤바 지역은 파차쿠티 황제 때 부터 잉카 제국에 속해있던 지역이었다. 스페인 군...</td>\n",
       "      <td>{'text': ['200,000명'], 'answer_start': [563]}</td>\n",
       "    </tr>\n",
       "    <tr>\n",
       "      <th>239</th>\n",
       "      <td>mrc-1-000622</td>\n",
       "      <td>마르크스주의자들의 사상은?</td>\n",
       "      <td>사회주의 혁명은 오로지 선진노동자계급에 기초한 계급투쟁으로서 이루어질 수 있다고 주...</td>\n",
       "      <td>{'text': ['공산주의'], 'answer_start': [811]}</td>\n",
       "    </tr>\n",
       "  </tbody>\n",
       "</table>\n",
       "<p>240 rows × 4 columns</p>\n",
       "</div>"
      ],
      "text/plain": [
       "               id                              question  \\\n",
       "0    mrc-0-003264        처음으로 부실 경영인에 대한 보상 선고를 받은 회사는?   \n",
       "1    mrc-0-004762  스카버러 남쪽과 코보콘그 마을의 철도 노선이 처음 연장된 연도는?   \n",
       "2    mrc-1-001810       촌락에서 운영 위원 후보자 이름을 쓰기위해 사용된 것은?   \n",
       "3    mrc-1-000219              로타이르가 백조를 구하기 위해 사용한 것은?   \n",
       "4    mrc-1-000285    의견을 자유롭게 나누는 것은 조직 내 어떤 관계에서 가능한가?   \n",
       "..            ...                                   ...   \n",
       "235  mrc-0-000484  전단이 연나라와의 전쟁에서 승리했을 당시 제나라의 왕은 누구인가?   \n",
       "236  mrc-0-002095            공놀이 경기장 중 일부는 어디에 위치하고 있나?   \n",
       "237  mrc-0-003083           창씨개명령의 시행일을 미루는 것을 수락한 인물은?   \n",
       "238  mrc-0-002978   망코 잉카가 쿠스코를 되찾기 위해 마련한 군사는 총 몇 명인가?   \n",
       "239  mrc-1-000622                        마르크스주의자들의 사상은?   \n",
       "\n",
       "                                               context  \\\n",
       "0    순천여자고등학교 졸업, 1973년 이화여자대학교를 졸업하고 1975년 제17회 사법...   \n",
       "1    요크 카운티 동쪽에 처음으로 여객 열차 운행이 시작한 시점은 1868년 토론토 & ...   \n",
       "2    촐라 정부\\n 촐라의 정부 체제는 전제군주제였으며,2001 촐라의 군주는 절대적인 ...   \n",
       "3    프랑스의 십자군 무훈시는 1099년 예루살렘 왕국의 통치자가 된 고드프루아 드 부용...   \n",
       "4    탈관료제화는 현대사회에서 관료제 성격이 약화되는 현상이다. 현대사회에서 관료제는 약...   \n",
       "..                                                 ...   \n",
       "235  연나라 군대의 사령관이 악의에서 기겁으로 교체되자, 전단은 스스로 신령의 계시를 받...   \n",
       "236  현재 우리가 볼 수 있는 티칼의 모습은 펜실베이니아 대학교와 과테말라 정부의 협조 ...   \n",
       "237  1940년 5월 1일 오전 창씨개명에 비협조적이라는 이유로 조선총독부 경무국에서 소...   \n",
       "238  빌카밤바 지역은 파차쿠티 황제 때 부터 잉카 제국에 속해있던 지역이었다. 스페인 군...   \n",
       "239  사회주의 혁명은 오로지 선진노동자계급에 기초한 계급투쟁으로서 이루어질 수 있다고 주...   \n",
       "\n",
       "                                               answers  \n",
       "0            {'text': ['한보철강'], 'answer_start': [284]}  \n",
       "1           {'text': ['1871년'], 'answer_start': [146]}  \n",
       "2             {'text': ['나뭇잎'], 'answer_start': [517]}  \n",
       "3            {'text': ['금대야'], 'answer_start': [1109]}  \n",
       "4          {'text': ['수평적 관계'], 'answer_start': [386]}  \n",
       "..                                                 ...  \n",
       "235         {'text': ['제 양왕'], 'answer_start': [1084]}  \n",
       "236  {'text': [''일곱 개의 신전 광장''], 'answer_start': [3...  \n",
       "237        {'text': ['미나미 지로'], 'answer_start': [247]}  \n",
       "238      {'text': ['200,000명'], 'answer_start': [563]}  \n",
       "239          {'text': ['공산주의'], 'answer_start': [811]}  \n",
       "\n",
       "[240 rows x 4 columns]"
      ]
     },
     "execution_count": 13,
     "metadata": {},
     "output_type": "execute_result"
    }
   ],
   "source": [
    "v_df"
   ]
  },
  {
   "cell_type": "code",
   "execution_count": 15,
   "id": "997cc61e-ddc7-4517-91ca-b3e4a0090bef",
   "metadata": {},
   "outputs": [],
   "source": [
    "Dataset.from_pandas(v_df).save_to_disk(f\"../../sentence_shuffle/train_dataset/validation\")"
   ]
  },
  {
   "cell_type": "code",
   "execution_count": 65,
   "id": "70bdb40c-bd1b-4ff8-a19e-155e308cc47b",
   "metadata": {},
   "outputs": [],
   "source": [
    "with open('../../data/train_dataset/dataset_dict.json') as f:\n",
    "    json_data = json.load(f)\n",
    "with open('../../sentence_shuffle/train_dataset/dataset_dict.json', 'w') as f:\n",
    "    json.dump(json_data, f)"
   ]
  },
  {
   "cell_type": "code",
   "execution_count": 69,
   "id": "fa469d34-e1c5-46c8-a013-2abaf59f2ea2",
   "metadata": {},
   "outputs": [],
   "source": [
    "test_datasets = load_from_disk(\"../../data/test_dataset/validation\")"
   ]
  },
  {
   "cell_type": "code",
   "execution_count": 70,
   "id": "f04fa746-547d-47d6-98ba-cfe70b1fd779",
   "metadata": {},
   "outputs": [
    {
     "data": {
      "text/plain": [
       "Dataset({\n",
       "    features: ['question', 'id'],\n",
       "    num_rows: 600\n",
       "})"
      ]
     },
     "execution_count": 70,
     "metadata": {},
     "output_type": "execute_result"
    }
   ],
   "source": [
    "test_datasets"
   ]
  },
  {
   "cell_type": "code",
   "execution_count": 71,
   "id": "35e93475-6333-4cef-a01a-904bdbad1b51",
   "metadata": {},
   "outputs": [],
   "source": [
    "test_datasets.save_to_disk(f\"../../sentence_shuffle/test_dataset/validation\")"
   ]
  },
  {
   "cell_type": "code",
   "execution_count": 72,
   "id": "d584a35e-8734-49f0-a779-b7788806c1bc",
   "metadata": {},
   "outputs": [],
   "source": [
    "with open('../../data/test_dataset/dataset_dict.json') as f:\n",
    "    json_data = json.load(f)\n",
    "with open('../../sentence_shuffle/test_dataset/dataset_dict.json', 'w') as f:\n",
    "    json.dump(json_data, f)"
   ]
  }
 ],
 "metadata": {
  "kernelspec": {
   "display_name": "Python 3 (ipykernel)",
   "language": "python",
   "name": "python3"
  },
  "language_info": {
   "codemirror_mode": {
    "name": "ipython",
    "version": 3
   },
   "file_extension": ".py",
   "mimetype": "text/x-python",
   "name": "python",
   "nbconvert_exporter": "python",
   "pygments_lexer": "ipython3",
   "version": "3.8.5"
  }
 },
 "nbformat": 4,
 "nbformat_minor": 5
}
