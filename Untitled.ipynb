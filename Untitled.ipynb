{
 "cells": [
  {
   "cell_type": "code",
   "execution_count": 21,
   "id": "184e8879-181d-433c-bb52-6c8bc7907373",
   "metadata": {},
   "outputs": [],
   "source": [
    "from arguments import *"
   ]
  },
  {
   "cell_type": "code",
   "execution_count": 1,
   "id": "16df5bce-4934-4a00-a73a-0e92c6ea11bb",
   "metadata": {},
   "outputs": [],
   "source": [
    "from arguments import MyArgument"
   ]
  },
  {
   "cell_type": "code",
   "execution_count": null,
   "id": "473a1dd7-9912-496f-b686-d00955f478f4",
   "metadata": {},
   "outputs": [],
   "source": []
  }
 ],
 "metadata": {
  "kernelspec": {
   "display_name": "Python 3 (ipykernel)",
   "language": "python",
   "name": "python3"
  },
  "language_info": {
   "codemirror_mode": {
    "name": "ipython",
    "version": 3
   },
   "file_extension": ".py",
   "mimetype": "text/x-python",
   "name": "python",
   "nbconvert_exporter": "python",
   "pygments_lexer": "ipython3",
   "version": "3.8.5"
  }
 },
 "nbformat": 4,
 "nbformat_minor": 5
}
