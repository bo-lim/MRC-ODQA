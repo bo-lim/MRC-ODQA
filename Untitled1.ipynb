{
 "cells": [
  {
   "cell_type": "code",
   "execution_count": 1,
   "id": "8bf7d1ea-4c21-41d8-8965-788b02eaf48f",
   "metadata": {},
   "outputs": [
    {
     "ename": "AttributeError",
     "evalue": "'ConfigParser' object has no attribute 'load'",
     "output_type": "error",
     "traceback": [
      "\u001b[0;31m---------------------------------------------------------------------------\u001b[0m",
      "\u001b[0;31mAttributeError\u001b[0m                            Traceback (most recent call last)",
      "Input \u001b[0;32mIn [1]\u001b[0m, in \u001b[0;36m<cell line: 1>\u001b[0;34m()\u001b[0m\n\u001b[0;32m----> 1\u001b[0m \u001b[38;5;28;01mfrom\u001b[39;00m \u001b[38;5;21;01marguments\u001b[39;00m \u001b[38;5;28;01mimport\u001b[39;00m MyTrainArguments\n",
      "File \u001b[0;32m~/input/code/arguments.py:32\u001b[0m, in \u001b[0;36m<module>\u001b[0;34m\u001b[0m\n\u001b[1;32m     18\u001b[0m     config_name: Optional[\u001b[38;5;28mstr\u001b[39m] \u001b[38;5;241m=\u001b[39m field(\n\u001b[1;32m     19\u001b[0m         default\u001b[38;5;241m=\u001b[39m\u001b[38;5;124m\"\u001b[39m\u001b[38;5;124mDDD\u001b[39m\u001b[38;5;124m\"\u001b[39m,\n\u001b[1;32m     20\u001b[0m         metadata\u001b[38;5;241m=\u001b[39m{\n\u001b[1;32m     21\u001b[0m             \u001b[38;5;124m\"\u001b[39m\u001b[38;5;124mhelp\u001b[39m\u001b[38;5;124m\"\u001b[39m: \u001b[38;5;124m\"\u001b[39m\u001b[38;5;124mPretrained config name or path if not the same as model_name\u001b[39m\u001b[38;5;124m\"\u001b[39m\n\u001b[1;32m     22\u001b[0m         },\n\u001b[1;32m     23\u001b[0m     )\n\u001b[1;32m     24\u001b[0m     tokenizer_name: Optional[\u001b[38;5;28mstr\u001b[39m] \u001b[38;5;241m=\u001b[39m field(\n\u001b[1;32m     25\u001b[0m         default\u001b[38;5;241m=\u001b[39m\u001b[38;5;28;01mNone\u001b[39;00m,\n\u001b[1;32m     26\u001b[0m         metadata\u001b[38;5;241m=\u001b[39m{\n\u001b[1;32m     27\u001b[0m             \u001b[38;5;124m\"\u001b[39m\u001b[38;5;124mhelp\u001b[39m\u001b[38;5;124m\"\u001b[39m: \u001b[38;5;124m\"\u001b[39m\u001b[38;5;124mPretrained tokenizer name or path if not the same as model_name\u001b[39m\u001b[38;5;124m\"\u001b[39m\n\u001b[1;32m     28\u001b[0m         },\n\u001b[1;32m     29\u001b[0m     )\n\u001b[1;32m     31\u001b[0m \u001b[38;5;129m@dataclass\u001b[39m\n\u001b[0;32m---> 32\u001b[0m \u001b[38;5;28;01mclass\u001b[39;00m \u001b[38;5;21;01mMyTrainArguments\u001b[39;00m(TrainingArguments):\n\u001b[1;32m     33\u001b[0m     config \u001b[38;5;241m=\u001b[39m configparser\u001b[38;5;241m.\u001b[39mConfigParser()\n\u001b[1;32m     34\u001b[0m     config\u001b[38;5;241m.\u001b[39mload(\u001b[38;5;124m'\u001b[39m\u001b[38;5;124mconf.ini\u001b[39m\u001b[38;5;124m'\u001b[39m)\n",
      "File \u001b[0;32m~/input/code/arguments.py:34\u001b[0m, in \u001b[0;36mMyTrainArguments\u001b[0;34m()\u001b[0m\n\u001b[1;32m     31\u001b[0m \u001b[38;5;129m@dataclass\u001b[39m\n\u001b[1;32m     32\u001b[0m \u001b[38;5;28;01mclass\u001b[39;00m \u001b[38;5;21;01mMyTrainArguments\u001b[39;00m(TrainingArguments):\n\u001b[1;32m     33\u001b[0m     config \u001b[38;5;241m=\u001b[39m configparser\u001b[38;5;241m.\u001b[39mConfigParser()\n\u001b[0;32m---> 34\u001b[0m     \u001b[43mconfig\u001b[49m\u001b[38;5;241;43m.\u001b[39;49m\u001b[43mload\u001b[49m(\u001b[38;5;124m'\u001b[39m\u001b[38;5;124mconf.ini\u001b[39m\u001b[38;5;124m'\u001b[39m)\n\u001b[1;32m     36\u001b[0m     max_answer_length: \u001b[38;5;28mint\u001b[39m \u001b[38;5;241m=\u001b[39m field(\n\u001b[1;32m     37\u001b[0m         default\u001b[38;5;241m=\u001b[39m\u001b[38;5;241m30\u001b[39m,\n\u001b[1;32m     38\u001b[0m         metadata\u001b[38;5;241m=\u001b[39m{\n\u001b[0;32m   (...)\u001b[0m\n\u001b[1;32m     41\u001b[0m         },\n\u001b[1;32m     42\u001b[0m     )\n",
      "\u001b[0;31mAttributeError\u001b[0m: 'ConfigParser' object has no attribute 'load'"
     ]
    }
   ],
   "source": [
    "from arguments import MyTrainArguments"
   ]
  },
  {
   "cell_type": "code",
   "execution_count": null,
   "id": "39446164-c7d1-414a-a49c-81a6d8248130",
   "metadata": {},
   "outputs": [],
   "source": [
    "MyTrainArguments.do_eval = True"
   ]
  },
  {
   "cell_type": "code",
   "execution_count": null,
   "id": "51587bea-8f71-4bf7-8591-9c2da59ff3a0",
   "metadata": {},
   "outputs": [],
   "source": [
    "print(MyTrainArguments.do_eval)"
   ]
  },
  {
   "cell_type": "code",
   "execution_count": null,
   "id": "e6319d6e-7dfa-41fd-adf7-2616d42416f2",
   "metadata": {},
   "outputs": [],
   "source": []
  }
 ],
 "metadata": {
  "kernelspec": {
   "display_name": "Python 3 (ipykernel)",
   "language": "python",
   "name": "python3"
  },
  "language_info": {
   "codemirror_mode": {
    "name": "ipython",
    "version": 3
   },
   "file_extension": ".py",
   "mimetype": "text/x-python",
   "name": "python",
   "nbconvert_exporter": "python",
   "pygments_lexer": "ipython3",
   "version": "3.8.5"
  }
 },
 "nbformat": 4,
 "nbformat_minor": 5
}
