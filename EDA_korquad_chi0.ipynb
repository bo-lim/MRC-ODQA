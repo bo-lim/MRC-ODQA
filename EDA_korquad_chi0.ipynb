{
 "cells": [
  {
   "cell_type": "code",
   "execution_count": 2,
   "id": "1a006d02-2e56-4444-ba98-66759199b884",
   "metadata": {},
   "outputs": [],
   "source": [
    "import json\n",
    "import random\n",
    "import numpy as np\n",
    "import pandas as pd\n",
    "from tqdm import tqdm, trange\n",
    "from datasets import load_from_disk, load_dataset, concatenate_datasets\n",
    "\n",
    "import seaborn as sns\n",
    "import matplotlib.pyplot as plt\n",
    "from Data.preprocessing import *\n",
    "from arguments import *\n",
    "\n",
    "from transformers import (\n",
    "    AutoConfig,\n",
    "    AutoModelForQuestionAnswering,\n",
    "    AutoTokenizer,\n",
    "    DataCollatorWithPadding,\n",
    "    EvalPrediction,\n",
    "    HfArgumentParser,\n",
    "    TrainingArguments,\n",
    "    set_seed,\n",
    ")"
   ]
  },
  {
   "cell_type": "code",
   "execution_count": 3,
   "id": "25b67fca",
   "metadata": {},
   "outputs": [],
   "source": [
    "model_args, data_args, training_args = return_arg()"
   ]
  },
  {
   "cell_type": "code",
   "execution_count": 4,
   "id": "d9fd31bd-5884-4647-8049-5286173367d3",
   "metadata": {},
   "outputs": [
    {
     "name": "stderr",
     "output_type": "stream",
     "text": [
      "Reusing dataset squad_kor_v1 (/opt/ml/.cache/huggingface/datasets/squad_kor_v1/squad_kor_v1/1.0.0/31982418accc53b059af090befa81e68880acc667ca5405d30ce6fa7910950a7)\n"
     ]
    }
   ],
   "source": [
    "korquad = load_dataset('squad_kor_v1')\n",
    "datasets = load_from_disk(data_args.dataset_name)"
   ]
  },
  {
   "cell_type": "code",
   "execution_count": 5,
   "id": "5e72bca7",
   "metadata": {},
   "outputs": [
    {
     "name": "stdout",
     "output_type": "stream",
     "text": [
      "DatasetDict({\n",
      "    train: Dataset({\n",
      "        features: ['id', 'title', 'context', 'question', 'answers'],\n",
      "        num_rows: 60407\n",
      "    })\n",
      "    validation: Dataset({\n",
      "        features: ['id', 'title', 'context', 'question', 'answers'],\n",
      "        num_rows: 5774\n",
      "    })\n",
      "})\n",
      "DatasetDict({\n",
      "    train: Dataset({\n",
      "        features: ['__index_level_0__', 'answers', 'context', 'document_id', 'id', 'question', 'title'],\n",
      "        num_rows: 3952\n",
      "    })\n",
      "    validation: Dataset({\n",
      "        features: ['__index_level_0__', 'answers', 'context', 'document_id', 'id', 'question', 'title'],\n",
      "        num_rows: 240\n",
      "    })\n",
      "})\n"
     ]
    }
   ],
   "source": [
    "print(korquad)\n",
    "print(datasets)"
   ]
  },
  {
   "cell_type": "code",
   "execution_count": 6,
   "id": "2379d30d-702f-4dd0-bcba-729c76e5aa0e",
   "metadata": {},
   "outputs": [],
   "source": [
    "train_korquad = korquad['train']\n",
    "valid_korquad = korquad['validation']\n",
    "train_data = datasets['train']\n",
    "valid_data = datasets['validation']"
   ]
  },
  {
   "cell_type": "code",
   "execution_count": 7,
   "id": "cf2e9b7c-b052-4714-beed-6432eaf68c35",
   "metadata": {},
   "outputs": [],
   "source": [
    "tokenizer = AutoTokenizer.from_pretrained(\n",
    "        model_args.tokenizer_name\n",
    "        if model_args.tokenizer_name is not None else model_args.model_name_or_path,\n",
    "        # 'use_fast' argument를 True로 설정할 경우 rust로 구현된 tokenizer를 사용할 수 있습니다.\n",
    "        # False로 설정할 경우 python으로 구현된 tokenizer를 사용할 수 있으며,\n",
    "        # rust version이 비교적 속도가 빠릅니다.\n",
    "        use_fast=True,\n",
    "    )"
   ]
  },
  {
   "cell_type": "code",
   "execution_count": 8,
   "id": "b32986ed-cc66-4e38-bf70-6bf78b2b87c4",
   "metadata": {},
   "outputs": [
    {
     "name": "stderr",
     "output_type": "stream",
     "text": [
      "Loading cached processed dataset at ../../data/train_dataset/train/cache-15f2deffcd472bce.arrow\n"
     ]
    },
    {
     "name": "stdout",
     "output_type": "stream",
     "text": [
      "['title', 'context', 'question', 'id', 'answers', 'document_id', '__index_level_0__']\n",
      "True\n",
      "./qa_train/roberta_korquad/checkpoint-19000 384\n"
     ]
    }
   ],
   "source": [
    "column_names = train_data.column_names\n",
    "question_column_name = \"question\" if \"question\" in column_names else column_names[0]\n",
    "context_column_name = \"context\" if \"context\" in column_names else column_names[1]\n",
    "answer_column_name = \"answers\" if \"answers\" in column_names else column_names[2]\n",
    "\n",
    "print(column_names)\n",
    "\n",
    "pad_on_right = tokenizer.padding_side == \"right\"\n",
    "print(pad_on_right)\n",
    "\n",
    "last_checkpoint, max_seq_length = check_no_error(\n",
    "        data_args, training_args, datasets, tokenizer\n",
    ")\n",
    "print(last_checkpoint, max_seq_length)\n",
    "\n",
    "train_dataset = train_data.map(\n",
    "    function=lambda x: prepare_train_features(x, tokenizer=tokenizer, pad_on_right=pad_on_right,\n",
    "                                              context_column_name=context_column_name, question_column_name=question_column_name,\n",
    "                                              answer_column_name=answer_column_name,\n",
    "                                              data_args=data_args, max_seq_length=max_seq_length),\n",
    "    batched=True,\n",
    "    num_proc=data_args.preprocessing_num_workers,\n",
    "    remove_columns=column_names,\n",
    "    load_from_cache_file=not data_args.overwrite_cache,\n",
    ")"
   ]
  },
  {
   "cell_type": "code",
   "execution_count": 9,
   "id": "70225699",
   "metadata": {},
   "outputs": [
    {
     "name": "stderr",
     "output_type": "stream",
     "text": [
      "Loading cached processed dataset at /opt/ml/.cache/huggingface/datasets/squad_kor_v1/squad_kor_v1/1.0.0/31982418accc53b059af090befa81e68880acc667ca5405d30ce6fa7910950a7/cache-31218f9574a997cc.arrow\n"
     ]
    },
    {
     "name": "stdout",
     "output_type": "stream",
     "text": [
      "['answers', 'context', 'id', 'question', 'title']\n",
      "True\n",
      "./qa_train/roberta_korquad/checkpoint-19000 384\n"
     ]
    }
   ],
   "source": [
    "column_names_korquad = train_korquad.column_names\n",
    "question_column_name_k = \"question\" if \"question\" in column_names_korquad else column_names_korquad[0]\n",
    "context_column_name_k = \"context\" if \"context\" in column_names_korquad else column_names_korquad[1]\n",
    "answer_column_name_k = \"answers\" if \"answers\" in column_names_korquad else column_names_korquad[2]\n",
    "\n",
    "print(column_names_korquad)\n",
    "\n",
    "pad_on_right = tokenizer.padding_side == \"right\"\n",
    "print(pad_on_right)\n",
    "\n",
    "last_checkpoint, max_seq_length = check_no_error(\n",
    "        data_args, training_args, korquad, tokenizer\n",
    ")\n",
    "print(last_checkpoint, max_seq_length)\n",
    "\n",
    "korquad_train_dataset = train_korquad.map(\n",
    "    function=lambda x: prepare_train_features(x, tokenizer=tokenizer, pad_on_right=pad_on_right,\n",
    "                                              context_column_name=context_column_name_k, question_column_name=question_column_name_k,\n",
    "                                              answer_column_name=answer_column_name_k,\n",
    "                                              data_args=data_args, max_seq_length=max_seq_length),\n",
    "    batched=True,\n",
    "    num_proc=data_args.preprocessing_num_workers,\n",
    "    remove_columns=column_names_korquad,\n",
    "    load_from_cache_file=not data_args.overwrite_cache,\n",
    ")"
   ]
  },
  {
   "cell_type": "code",
   "execution_count": 10,
   "id": "585249e6",
   "metadata": {},
   "outputs": [
    {
     "name": "stderr",
     "output_type": "stream",
     "text": [
      "Loading cached processed dataset at /opt/ml/.cache/huggingface/datasets/squad_kor_v1/squad_kor_v1/1.0.0/31982418accc53b059af090befa81e68880acc667ca5405d30ce6fa7910950a7/cache-c2ee6dd3fd36e5e0.arrow\n"
     ]
    }
   ],
   "source": [
    "korquad_eval_dataset = valid_korquad.map(\n",
    "            function=lambda x: prepare_validation_features(x, tokenizer=tokenizer, pad_on_right=pad_on_right,\n",
    "                                                      context_column_name=context_column_name_k, question_column_name=question_column_name_k,\n",
    "                                                      answer_column_name=answer_column_name_k,\n",
    "                                                      data_args=data_args, max_seq_length=max_seq_length),\n",
    "            batched=True,\n",
    "            num_proc=data_args.preprocessing_num_workers,\n",
    "            remove_columns=column_names_korquad,\n",
    "            load_from_cache_file=not data_args.overwrite_cache,\n",
    "        )"
   ]
  },
  {
   "cell_type": "code",
   "execution_count": 11,
   "id": "13bc334e",
   "metadata": {},
   "outputs": [
    {
     "name": "stdout",
     "output_type": "stream",
     "text": [
      "Dataset({\n",
      "    features: ['attention_mask', 'example_id', 'input_ids', 'offset_mapping', 'token_type_ids'],\n",
      "    num_rows: 6865\n",
      "})\n",
      "6865\n",
      "5774\n",
      "6548850-0-0\n",
      "6548850-0-0\n"
     ]
    }
   ],
   "source": [
    "print(korquad_eval_dataset)\n",
    "print(len(korquad_eval_dataset))\n",
    "print(len(set(korquad_eval_dataset['example_id'])))\n",
    "print(valid_korquad['id'][0])\n",
    "print(korquad_eval_dataset['example_id'][0])"
   ]
  },
  {
   "cell_type": "code",
   "execution_count": 12,
   "id": "2c0ce63c",
   "metadata": {},
   "outputs": [
    {
     "name": "stdout",
     "output_type": "stream",
     "text": [
      "Dataset({\n",
      "    features: ['attention_mask', 'end_positions', 'input_ids', 'start_positions'],\n",
      "    num_rows: 7978\n",
      "})\n",
      "Dataset({\n",
      "    features: ['attention_mask', 'end_positions', 'input_ids', 'start_positions'],\n",
      "    num_rows: 69399\n",
      "})\n"
     ]
    }
   ],
   "source": [
    "print(train_dataset)\n",
    "print(korquad_train_dataset)"
   ]
  },
  {
   "cell_type": "code",
   "execution_count": 13,
   "id": "c62cea4d-2ec2-4770-aae2-e2dd1cc0b0ac",
   "metadata": {},
   "outputs": [],
   "source": [
    "new_train = concatenate_datasets(dsets=[train_dataset, korquad_train_dataset])"
   ]
  },
  {
   "cell_type": "code",
   "execution_count": 14,
   "id": "be2b8f40",
   "metadata": {},
   "outputs": [
    {
     "name": "stdout",
     "output_type": "stream",
     "text": [
      "Dataset({\n",
      "    features: ['__index_level_0__', 'answers', 'context', 'document_id', 'id', 'question', 'title'],\n",
      "    num_rows: 3952\n",
      "})\n",
      "Dataset({\n",
      "    features: ['id', 'title', 'context', 'question', 'answers'],\n",
      "    num_rows: 60407\n",
      "})\n"
     ]
    }
   ],
   "source": [
    "print(train_data)\n",
    "print(train_korquad)"
   ]
  },
  {
   "cell_type": "code",
   "execution_count": 15,
   "id": "c60777ca",
   "metadata": {},
   "outputs": [],
   "source": [
    "def dict2str(example):\n",
    "    example['answers'] = str(example['answers'])\n",
    "    return example\n",
    "def str2dict(example):\n",
    "    example['answers'] = eval(example['answers'])\n",
    "    return example"
   ]
  },
  {
   "cell_type": "code",
   "execution_count": 16,
   "id": "ff4822c5",
   "metadata": {},
   "outputs": [
    {
     "data": {
      "application/vnd.jupyter.widget-view+json": {
       "model_id": "c01721d689f5480b94f077aabefcfc6a",
       "version_major": 2,
       "version_minor": 0
      },
      "text/plain": [
       "HBox(children=(FloatProgress(value=0.0, max=3952.0), HTML(value='')))"
      ]
     },
     "metadata": {},
     "output_type": "display_data"
    },
    {
     "name": "stdout",
     "output_type": "stream",
     "text": [
      "\n"
     ]
    },
    {
     "data": {
      "application/vnd.jupyter.widget-view+json": {
       "model_id": "a57f9cdfabd2435c9648b75f7c28cb12",
       "version_major": 2,
       "version_minor": 0
      },
      "text/plain": [
       "HBox(children=(FloatProgress(value=0.0, max=60407.0), HTML(value='')))"
      ]
     },
     "metadata": {},
     "output_type": "display_data"
    },
    {
     "name": "stdout",
     "output_type": "stream",
     "text": [
      "\n"
     ]
    }
   ],
   "source": [
    "new_train_data = train_data.map(dict2str)\n",
    "new_train_korquad = train_korquad.map(dict2str)\n",
    "\n",
    "new_train_data = new_train_data.remove_columns(['__index_level_0__', 'document_id'])"
   ]
  },
  {
   "cell_type": "code",
   "execution_count": 17,
   "id": "e33ef0a4",
   "metadata": {},
   "outputs": [],
   "source": [
    "new_set = new_train_data.cast(new_train_korquad.features)"
   ]
  },
  {
   "cell_type": "code",
   "execution_count": 18,
   "id": "16e1ad2a",
   "metadata": {},
   "outputs": [
    {
     "name": "stdout",
     "output_type": "stream",
     "text": [
      "Dataset({\n",
      "    features: ['answers', 'context', 'id', 'question', 'title'],\n",
      "    num_rows: 3952\n",
      "})\n",
      "Dataset({\n",
      "    features: ['answers', 'context', 'id', 'question', 'title'],\n",
      "    num_rows: 60407\n",
      "})\n"
     ]
    }
   ],
   "source": [
    "print(new_set)\n",
    "print(new_train_korquad)"
   ]
  },
  {
   "cell_type": "code",
   "execution_count": 19,
   "id": "eab3311b",
   "metadata": {},
   "outputs": [],
   "source": [
    "concated = concatenate_datasets([new_set, new_train_korquad])"
   ]
  },
  {
   "cell_type": "code",
   "execution_count": 20,
   "id": "fd573800",
   "metadata": {},
   "outputs": [
    {
     "data": {
      "application/vnd.jupyter.widget-view+json": {
       "model_id": "d284575e01e146c8b7305b72e63a7503",
       "version_major": 2,
       "version_minor": 0
      },
      "text/plain": [
       "HBox(children=(FloatProgress(value=0.0, max=64359.0), HTML(value='')))"
      ]
     },
     "metadata": {},
     "output_type": "display_data"
    },
    {
     "name": "stdout",
     "output_type": "stream",
     "text": [
      "\n"
     ]
    }
   ],
   "source": [
    "concated = concated.map(str2dict)"
   ]
  },
  {
   "cell_type": "code",
   "execution_count": 21,
   "id": "8abfde95",
   "metadata": {},
   "outputs": [
    {
     "data": {
      "text/plain": [
       "Dataset({\n",
       "    features: ['answers', 'context', 'id', 'question', 'title'],\n",
       "    num_rows: 64359\n",
       "})"
      ]
     },
     "execution_count": 21,
     "metadata": {},
     "output_type": "execute_result"
    }
   ],
   "source": [
    "concated"
   ]
  }
 ],
 "metadata": {
  "interpreter": {
   "hash": "d4d1e4263499bec80672ea0156c357c1ee493ec2b1c70f0acce89fc37c4a6abe"
  },
  "kernelspec": {
   "display_name": "Python 3.8.5 ('base')",
   "language": "python",
   "name": "python3"
  },
  "language_info": {
   "codemirror_mode": {
    "name": "ipython",
    "version": 3
   },
   "file_extension": ".py",
   "mimetype": "text/x-python",
   "name": "python",
   "nbconvert_exporter": "python",
   "pygments_lexer": "ipython3",
   "version": "3.8.5"
  }
 },
 "nbformat": 4,
 "nbformat_minor": 5
}
